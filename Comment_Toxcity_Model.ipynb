{
  "cells": [
    {
      "cell_type": "code",
      "execution_count": null,
      "metadata": {
        "id": "ntj33LEyHIXn"
      },
      "outputs": [],
      "source": [
        "# Install Dependencies and Bring in Data\n",
        "#  Preprocess\n",
        "# Create a Squential Model\n",
        "# Evaluate Model\n",
        "# Test and Gradio"
      ]
    },
    {
      "cell_type": "code",
      "execution_count": null,
      "metadata": {
        "id": "DH7p02z6QzFh"
      },
      "outputs": [],
      "source": [
        "!pip install tensorflow-gpu==2.9.0\n"
      ]
    },
    {
      "cell_type": "code",
      "execution_count": null,
      "metadata": {
        "id": "G2C0GlIwRNWv"
      },
      "outputs": [],
      "source": [
        "!pip install tensorflow==2.9.0"
      ]
    },
    {
      "cell_type": "code",
      "execution_count": null,
      "metadata": {
        "id": "1ApWzzPrPiIn"
      },
      "outputs": [],
      "source": [
        "import tensorflow as tf\n",
        "from tensorflow import keras\n",
        "import matplotlib.pyplot as plt\n",
        "import numpy as np\n",
        "import pandas as pd"
      ]
    },
    {
      "cell_type": "code",
      "execution_count": null,
      "metadata": {
        "colab": {
          "base_uri": "https://localhost:8080/"
        },
        "id": "yjCVID9rTKa4",
        "outputId": "daa87239-bf50-4310-cda4-3ae872d32275"
      },
      "outputs": [
        {
          "output_type": "stream",
          "name": "stdout",
          "text": [
            "Mounted at /content/drive\n"
          ]
        }
      ],
      "source": [
        "from google.colab import drive\n",
        "\n",
        "# Mount Google Drive\n",
        "drive.mount('/content/drive')\n"
      ]
    },
    {
      "cell_type": "code",
      "execution_count": null,
      "metadata": {
        "id": "fPMMgeIHTLgn"
      },
      "outputs": [],
      "source": [
        "dataset_path = '/content/drive/My Drive/Datasets/Toxic Comment Classification Challenge/'"
      ]
    },
    {
      "cell_type": "code",
      "execution_count": null,
      "metadata": {
        "id": "MaqE1VgwTLIh"
      },
      "outputs": [],
      "source": [
        "df = pd.read_csv(dataset_path + 'train.csv')"
      ]
    },
    {
      "cell_type": "code",
      "execution_count": null,
      "metadata": {
        "colab": {
          "base_uri": "https://localhost:8080/",
          "height": 206
        },
        "id": "ZnfK-UOhTlBx",
        "outputId": "6c2291b4-9418-4444-cace-9e2c9237a127"
      },
      "outputs": [
        {
          "output_type": "execute_result",
          "data": {
            "text/plain": [
              "                 id                                       comment_text  toxic  \\\n",
              "0  0000997932d777bf  Explanation\\nWhy the edits made under my usern...      0   \n",
              "1  000103f0d9cfb60f  D'aww! He matches this background colour I'm s...      0   \n",
              "2  000113f07ec002fd  Hey man, I'm really not trying to edit war. It...      0   \n",
              "3  0001b41b1c6bb37e  \"\\nMore\\nI can't make any real suggestions on ...      0   \n",
              "4  0001d958c54c6e35  You, sir, are my hero. Any chance you remember...      0   \n",
              "\n",
              "   severe_toxic  obscene  threat  insult  identity_hate  \n",
              "0             0        0       0       0              0  \n",
              "1             0        0       0       0              0  \n",
              "2             0        0       0       0              0  \n",
              "3             0        0       0       0              0  \n",
              "4             0        0       0       0              0  "
            ],
            "text/html": [
              "\n",
              "  <div id=\"df-029ae880-7c50-4286-aa7f-b62a6a111b07\" class=\"colab-df-container\">\n",
              "    <div>\n",
              "<style scoped>\n",
              "    .dataframe tbody tr th:only-of-type {\n",
              "        vertical-align: middle;\n",
              "    }\n",
              "\n",
              "    .dataframe tbody tr th {\n",
              "        vertical-align: top;\n",
              "    }\n",
              "\n",
              "    .dataframe thead th {\n",
              "        text-align: right;\n",
              "    }\n",
              "</style>\n",
              "<table border=\"1\" class=\"dataframe\">\n",
              "  <thead>\n",
              "    <tr style=\"text-align: right;\">\n",
              "      <th></th>\n",
              "      <th>id</th>\n",
              "      <th>comment_text</th>\n",
              "      <th>toxic</th>\n",
              "      <th>severe_toxic</th>\n",
              "      <th>obscene</th>\n",
              "      <th>threat</th>\n",
              "      <th>insult</th>\n",
              "      <th>identity_hate</th>\n",
              "    </tr>\n",
              "  </thead>\n",
              "  <tbody>\n",
              "    <tr>\n",
              "      <th>0</th>\n",
              "      <td>0000997932d777bf</td>\n",
              "      <td>Explanation\\nWhy the edits made under my usern...</td>\n",
              "      <td>0</td>\n",
              "      <td>0</td>\n",
              "      <td>0</td>\n",
              "      <td>0</td>\n",
              "      <td>0</td>\n",
              "      <td>0</td>\n",
              "    </tr>\n",
              "    <tr>\n",
              "      <th>1</th>\n",
              "      <td>000103f0d9cfb60f</td>\n",
              "      <td>D'aww! He matches this background colour I'm s...</td>\n",
              "      <td>0</td>\n",
              "      <td>0</td>\n",
              "      <td>0</td>\n",
              "      <td>0</td>\n",
              "      <td>0</td>\n",
              "      <td>0</td>\n",
              "    </tr>\n",
              "    <tr>\n",
              "      <th>2</th>\n",
              "      <td>000113f07ec002fd</td>\n",
              "      <td>Hey man, I'm really not trying to edit war. It...</td>\n",
              "      <td>0</td>\n",
              "      <td>0</td>\n",
              "      <td>0</td>\n",
              "      <td>0</td>\n",
              "      <td>0</td>\n",
              "      <td>0</td>\n",
              "    </tr>\n",
              "    <tr>\n",
              "      <th>3</th>\n",
              "      <td>0001b41b1c6bb37e</td>\n",
              "      <td>\"\\nMore\\nI can't make any real suggestions on ...</td>\n",
              "      <td>0</td>\n",
              "      <td>0</td>\n",
              "      <td>0</td>\n",
              "      <td>0</td>\n",
              "      <td>0</td>\n",
              "      <td>0</td>\n",
              "    </tr>\n",
              "    <tr>\n",
              "      <th>4</th>\n",
              "      <td>0001d958c54c6e35</td>\n",
              "      <td>You, sir, are my hero. Any chance you remember...</td>\n",
              "      <td>0</td>\n",
              "      <td>0</td>\n",
              "      <td>0</td>\n",
              "      <td>0</td>\n",
              "      <td>0</td>\n",
              "      <td>0</td>\n",
              "    </tr>\n",
              "  </tbody>\n",
              "</table>\n",
              "</div>\n",
              "    <div class=\"colab-df-buttons\">\n",
              "\n",
              "  <div class=\"colab-df-container\">\n",
              "    <button class=\"colab-df-convert\" onclick=\"convertToInteractive('df-029ae880-7c50-4286-aa7f-b62a6a111b07')\"\n",
              "            title=\"Convert this dataframe to an interactive table.\"\n",
              "            style=\"display:none;\">\n",
              "\n",
              "  <svg xmlns=\"http://www.w3.org/2000/svg\" height=\"24px\" viewBox=\"0 -960 960 960\">\n",
              "    <path d=\"M120-120v-720h720v720H120Zm60-500h600v-160H180v160Zm220 220h160v-160H400v160Zm0 220h160v-160H400v160ZM180-400h160v-160H180v160Zm440 0h160v-160H620v160ZM180-180h160v-160H180v160Zm440 0h160v-160H620v160Z\"/>\n",
              "  </svg>\n",
              "    </button>\n",
              "\n",
              "  <style>\n",
              "    .colab-df-container {\n",
              "      display:flex;\n",
              "      gap: 12px;\n",
              "    }\n",
              "\n",
              "    .colab-df-convert {\n",
              "      background-color: #E8F0FE;\n",
              "      border: none;\n",
              "      border-radius: 50%;\n",
              "      cursor: pointer;\n",
              "      display: none;\n",
              "      fill: #1967D2;\n",
              "      height: 32px;\n",
              "      padding: 0 0 0 0;\n",
              "      width: 32px;\n",
              "    }\n",
              "\n",
              "    .colab-df-convert:hover {\n",
              "      background-color: #E2EBFA;\n",
              "      box-shadow: 0px 1px 2px rgba(60, 64, 67, 0.3), 0px 1px 3px 1px rgba(60, 64, 67, 0.15);\n",
              "      fill: #174EA6;\n",
              "    }\n",
              "\n",
              "    .colab-df-buttons div {\n",
              "      margin-bottom: 4px;\n",
              "    }\n",
              "\n",
              "    [theme=dark] .colab-df-convert {\n",
              "      background-color: #3B4455;\n",
              "      fill: #D2E3FC;\n",
              "    }\n",
              "\n",
              "    [theme=dark] .colab-df-convert:hover {\n",
              "      background-color: #434B5C;\n",
              "      box-shadow: 0px 1px 3px 1px rgba(0, 0, 0, 0.15);\n",
              "      filter: drop-shadow(0px 1px 2px rgba(0, 0, 0, 0.3));\n",
              "      fill: #FFFFFF;\n",
              "    }\n",
              "  </style>\n",
              "\n",
              "    <script>\n",
              "      const buttonEl =\n",
              "        document.querySelector('#df-029ae880-7c50-4286-aa7f-b62a6a111b07 button.colab-df-convert');\n",
              "      buttonEl.style.display =\n",
              "        google.colab.kernel.accessAllowed ? 'block' : 'none';\n",
              "\n",
              "      async function convertToInteractive(key) {\n",
              "        const element = document.querySelector('#df-029ae880-7c50-4286-aa7f-b62a6a111b07');\n",
              "        const dataTable =\n",
              "          await google.colab.kernel.invokeFunction('convertToInteractive',\n",
              "                                                    [key], {});\n",
              "        if (!dataTable) return;\n",
              "\n",
              "        const docLinkHtml = 'Like what you see? Visit the ' +\n",
              "          '<a target=\"_blank\" href=https://colab.research.google.com/notebooks/data_table.ipynb>data table notebook</a>'\n",
              "          + ' to learn more about interactive tables.';\n",
              "        element.innerHTML = '';\n",
              "        dataTable['output_type'] = 'display_data';\n",
              "        await google.colab.output.renderOutput(dataTable, element);\n",
              "        const docLink = document.createElement('div');\n",
              "        docLink.innerHTML = docLinkHtml;\n",
              "        element.appendChild(docLink);\n",
              "      }\n",
              "    </script>\n",
              "  </div>\n",
              "\n",
              "\n",
              "<div id=\"df-9f40389c-f9ca-421a-bff8-b00881ced9a3\">\n",
              "  <button class=\"colab-df-quickchart\" onclick=\"quickchart('df-9f40389c-f9ca-421a-bff8-b00881ced9a3')\"\n",
              "            title=\"Suggest charts\"\n",
              "            style=\"display:none;\">\n",
              "\n",
              "<svg xmlns=\"http://www.w3.org/2000/svg\" height=\"24px\"viewBox=\"0 0 24 24\"\n",
              "     width=\"24px\">\n",
              "    <g>\n",
              "        <path d=\"M19 3H5c-1.1 0-2 .9-2 2v14c0 1.1.9 2 2 2h14c1.1 0 2-.9 2-2V5c0-1.1-.9-2-2-2zM9 17H7v-7h2v7zm4 0h-2V7h2v10zm4 0h-2v-4h2v4z\"/>\n",
              "    </g>\n",
              "</svg>\n",
              "  </button>\n",
              "\n",
              "<style>\n",
              "  .colab-df-quickchart {\n",
              "      --bg-color: #E8F0FE;\n",
              "      --fill-color: #1967D2;\n",
              "      --hover-bg-color: #E2EBFA;\n",
              "      --hover-fill-color: #174EA6;\n",
              "      --disabled-fill-color: #AAA;\n",
              "      --disabled-bg-color: #DDD;\n",
              "  }\n",
              "\n",
              "  [theme=dark] .colab-df-quickchart {\n",
              "      --bg-color: #3B4455;\n",
              "      --fill-color: #D2E3FC;\n",
              "      --hover-bg-color: #434B5C;\n",
              "      --hover-fill-color: #FFFFFF;\n",
              "      --disabled-bg-color: #3B4455;\n",
              "      --disabled-fill-color: #666;\n",
              "  }\n",
              "\n",
              "  .colab-df-quickchart {\n",
              "    background-color: var(--bg-color);\n",
              "    border: none;\n",
              "    border-radius: 50%;\n",
              "    cursor: pointer;\n",
              "    display: none;\n",
              "    fill: var(--fill-color);\n",
              "    height: 32px;\n",
              "    padding: 0;\n",
              "    width: 32px;\n",
              "  }\n",
              "\n",
              "  .colab-df-quickchart:hover {\n",
              "    background-color: var(--hover-bg-color);\n",
              "    box-shadow: 0 1px 2px rgba(60, 64, 67, 0.3), 0 1px 3px 1px rgba(60, 64, 67, 0.15);\n",
              "    fill: var(--button-hover-fill-color);\n",
              "  }\n",
              "\n",
              "  .colab-df-quickchart-complete:disabled,\n",
              "  .colab-df-quickchart-complete:disabled:hover {\n",
              "    background-color: var(--disabled-bg-color);\n",
              "    fill: var(--disabled-fill-color);\n",
              "    box-shadow: none;\n",
              "  }\n",
              "\n",
              "  .colab-df-spinner {\n",
              "    border: 2px solid var(--fill-color);\n",
              "    border-color: transparent;\n",
              "    border-bottom-color: var(--fill-color);\n",
              "    animation:\n",
              "      spin 1s steps(1) infinite;\n",
              "  }\n",
              "\n",
              "  @keyframes spin {\n",
              "    0% {\n",
              "      border-color: transparent;\n",
              "      border-bottom-color: var(--fill-color);\n",
              "      border-left-color: var(--fill-color);\n",
              "    }\n",
              "    20% {\n",
              "      border-color: transparent;\n",
              "      border-left-color: var(--fill-color);\n",
              "      border-top-color: var(--fill-color);\n",
              "    }\n",
              "    30% {\n",
              "      border-color: transparent;\n",
              "      border-left-color: var(--fill-color);\n",
              "      border-top-color: var(--fill-color);\n",
              "      border-right-color: var(--fill-color);\n",
              "    }\n",
              "    40% {\n",
              "      border-color: transparent;\n",
              "      border-right-color: var(--fill-color);\n",
              "      border-top-color: var(--fill-color);\n",
              "    }\n",
              "    60% {\n",
              "      border-color: transparent;\n",
              "      border-right-color: var(--fill-color);\n",
              "    }\n",
              "    80% {\n",
              "      border-color: transparent;\n",
              "      border-right-color: var(--fill-color);\n",
              "      border-bottom-color: var(--fill-color);\n",
              "    }\n",
              "    90% {\n",
              "      border-color: transparent;\n",
              "      border-bottom-color: var(--fill-color);\n",
              "    }\n",
              "  }\n",
              "</style>\n",
              "\n",
              "  <script>\n",
              "    async function quickchart(key) {\n",
              "      const quickchartButtonEl =\n",
              "        document.querySelector('#' + key + ' button');\n",
              "      quickchartButtonEl.disabled = true;  // To prevent multiple clicks.\n",
              "      quickchartButtonEl.classList.add('colab-df-spinner');\n",
              "      try {\n",
              "        const charts = await google.colab.kernel.invokeFunction(\n",
              "            'suggestCharts', [key], {});\n",
              "      } catch (error) {\n",
              "        console.error('Error during call to suggestCharts:', error);\n",
              "      }\n",
              "      quickchartButtonEl.classList.remove('colab-df-spinner');\n",
              "      quickchartButtonEl.classList.add('colab-df-quickchart-complete');\n",
              "    }\n",
              "    (() => {\n",
              "      let quickchartButtonEl =\n",
              "        document.querySelector('#df-9f40389c-f9ca-421a-bff8-b00881ced9a3 button');\n",
              "      quickchartButtonEl.style.display =\n",
              "        google.colab.kernel.accessAllowed ? 'block' : 'none';\n",
              "    })();\n",
              "  </script>\n",
              "</div>\n",
              "\n",
              "    </div>\n",
              "  </div>\n"
            ],
            "application/vnd.google.colaboratory.intrinsic+json": {
              "type": "dataframe",
              "variable_name": "df"
            }
          },
          "metadata": {},
          "execution_count": 6
        }
      ],
      "source": [
        "df.head()"
      ]
    },
    {
      "cell_type": "code",
      "execution_count": null,
      "metadata": {
        "colab": {
          "base_uri": "https://localhost:8080/",
          "height": 54
        },
        "id": "tM6eBkaLUOk0",
        "outputId": "16af81f9-d688-47e4-d876-db7f049dabdb"
      },
      "outputs": [
        {
          "output_type": "execute_result",
          "data": {
            "text/plain": [
              "\"Explanation\\nWhy the edits made under my username Hardcore Metallica Fan were reverted? They weren't vandalisms, just closure on some GAs after I voted at New York Dolls FAC. And please don't remove the template from the talk page since I'm retired now.89.205.38.27\""
            ],
            "application/vnd.google.colaboratory.intrinsic+json": {
              "type": "string"
            }
          },
          "metadata": {},
          "execution_count": 7
        }
      ],
      "source": [
        "df.iloc[0][\"comment_text\"]"
      ]
    },
    {
      "cell_type": "code",
      "execution_count": null,
      "metadata": {
        "colab": {
          "base_uri": "https://localhost:8080/"
        },
        "id": "vkdqhLuwUUag",
        "outputId": "c6848408-0d5b-42d7-86d5-579fb18471a5"
      },
      "outputs": [
        {
          "output_type": "execute_result",
          "data": {
            "text/plain": [
              "toxic            0\n",
              "severe_toxic     0\n",
              "obscene          0\n",
              "threat           0\n",
              "insult           0\n",
              "identity_hate    0\n",
              "Name: 3, dtype: int64"
            ]
          },
          "metadata": {},
          "execution_count": 8
        }
      ],
      "source": [
        "df[df.columns[2:]].iloc[3]"
      ]
    },
    {
      "cell_type": "code",
      "execution_count": null,
      "metadata": {
        "colab": {
          "base_uri": "https://localhost:8080/"
        },
        "id": "PsiCQDilUEKo",
        "outputId": "97c9bc4d-7140-49b9-bfcb-2a87bf075018"
      },
      "outputs": [
        {
          "output_type": "execute_result",
          "data": {
            "text/plain": [
              "(159571, 8)"
            ]
          },
          "metadata": {},
          "execution_count": 9
        }
      ],
      "source": [
        "df.shape"
      ]
    },
    {
      "cell_type": "code",
      "execution_count": null,
      "metadata": {
        "id": "ZOoAWzw6UFyx"
      },
      "outputs": [],
      "source": [
        "import seaborn as sns"
      ]
    },
    {
      "cell_type": "code",
      "execution_count": null,
      "metadata": {
        "id": "nE2GnQLVUxkp"
      },
      "outputs": [],
      "source": [
        "df[[i for i in df.columns if i  not in [\"id\", \"comment_text\"]   ]].value_counts()"
      ]
    },
    {
      "cell_type": "code",
      "execution_count": null,
      "metadata": {
        "id": "WYXV0pWUWCey",
        "colab": {
          "base_uri": "https://localhost:8080/"
        },
        "outputId": "26de2f7c-3813-4c0d-ae75-726874b19c8c"
      },
      "outputs": [
        {
          "output_type": "execute_result",
          "data": {
            "text/plain": [
              "id               0\n",
              "comment_text     0\n",
              "toxic            0\n",
              "severe_toxic     0\n",
              "obscene          0\n",
              "threat           0\n",
              "insult           0\n",
              "identity_hate    0\n",
              "dtype: int64"
            ]
          },
          "metadata": {},
          "execution_count": 12
        }
      ],
      "source": [
        "df.isna().sum()"
      ]
    },
    {
      "cell_type": "code",
      "execution_count": null,
      "metadata": {
        "id": "TG1tEjhNW7q5"
      },
      "outputs": [],
      "source": [
        "from tensorflow.keras.layers import TextVectorization"
      ]
    },
    {
      "cell_type": "code",
      "execution_count": null,
      "metadata": {
        "colab": {
          "base_uri": "https://localhost:8080/",
          "height": 186
        },
        "id": "7wd_mtMyXeeZ",
        "outputId": "91e818a6-1ae0-4ef9-c9cf-c618639fd0c7"
      },
      "outputs": [
        {
          "output_type": "execute_result",
          "data": {
            "text/plain": [
              "keras.src.layers.preprocessing.text_vectorization.TextVectorization"
            ],
            "text/html": [
              "<div style=\"max-width:800px; border: 1px solid var(--colab-border-color);\"><style>\n",
              "      pre.function-repr-contents {\n",
              "        overflow-x: auto;\n",
              "        padding: 8px 12px;\n",
              "        max-height: 500px;\n",
              "      }\n",
              "\n",
              "      pre.function-repr-contents.function-repr-contents-collapsed {\n",
              "        cursor: pointer;\n",
              "        max-height: 100px;\n",
              "      }\n",
              "    </style>\n",
              "    <pre style=\"white-space: initial; background:\n",
              "         var(--colab-secondary-surface-color); padding: 8px 12px;\n",
              "         border-bottom: 1px solid var(--colab-border-color);\"><b>keras.src.layers.preprocessing.text_vectorization.TextVectorization</b><br/>def error_handler(*args, **kwargs)</pre><pre class=\"function-repr-contents function-repr-contents-collapsed\" style=\"\"><a class=\"filepath\" style=\"display:none\" href=\"#\">/usr/local/lib/python3.10/dist-packages/keras/src/layers/preprocessing/text_vectorization.py</a>A preprocessing layer which maps text features to integer sequences.\n",
              "\n",
              "This layer has basic options for managing text in a Keras model. It\n",
              "transforms a batch of strings (one example = one string) into either a list\n",
              "of token indices (one example = 1D tensor of integer token indices) or a\n",
              "dense representation (one example = 1D tensor of float values representing\n",
              "data about the example&#x27;s tokens). This layer is meant to handle natural\n",
              "language inputs. To handle simple string inputs (categorical strings or\n",
              "pre-tokenized strings) see `tf.keras.layers.StringLookup`.\n",
              "\n",
              "The vocabulary for the layer must be either supplied on construction or\n",
              "learned via `adapt()`. When this layer is adapted, it will analyze the\n",
              "dataset, determine the frequency of individual string values, and create a\n",
              "vocabulary from them. This vocabulary can have unlimited size or be capped,\n",
              "depending on the configuration options for this layer; if there are more\n",
              "unique values in the input than the maximum vocabulary size, the most\n",
              "frequent terms will be used to create the vocabulary.\n",
              "\n",
              "The processing of each example contains the following steps:\n",
              "\n",
              "1. Standardize each example (usually lowercasing + punctuation stripping)\n",
              "2. Split each example into substrings (usually words)\n",
              "3. Recombine substrings into tokens (usually ngrams)\n",
              "4. Index tokens (associate a unique int value with each token)\n",
              "5. Transform each example using this index, either into a vector of ints or\n",
              "   a dense float vector.\n",
              "\n",
              "Some notes on passing callables to customize splitting and normalization for\n",
              "this layer:\n",
              "\n",
              "1. Any callable can be passed to this Layer, but if you want to serialize\n",
              "   this object you should only pass functions that are registered Keras\n",
              "   serializables (see `tf.keras.saving.register_keras_serializable` for more\n",
              "   details).\n",
              "2. When using a custom callable for `standardize`, the data received\n",
              "   by the callable will be exactly as passed to this layer. The callable\n",
              "   should return a tensor of the same shape as the input.\n",
              "3. When using a custom callable for `split`, the data received by the\n",
              "   callable will have the 1st dimension squeezed out - instead of\n",
              "   `[[&quot;string to split&quot;], [&quot;another string to split&quot;]]`, the Callable will\n",
              "   see `[&quot;string to split&quot;, &quot;another string to split&quot;]`. The callable should\n",
              "   return a Tensor with the first dimension containing the split tokens -\n",
              "   in this example, we should see something like `[[&quot;string&quot;, &quot;to&quot;,\n",
              "   &quot;split&quot;], [&quot;another&quot;, &quot;string&quot;, &quot;to&quot;, &quot;split&quot;]]`. This makes the callable\n",
              "   site natively compatible with `tf.strings.split()`.\n",
              "\n",
              "For an overview and full list of preprocessing layers, see the preprocessing\n",
              "[guide](https://www.tensorflow.org/guide/keras/preprocessing_layers).\n",
              "\n",
              "Args:\n",
              "  max_tokens: Maximum size of the vocabulary for this layer. This should\n",
              "    only be specified when adapting a vocabulary or when setting\n",
              "    `pad_to_max_tokens=True`. Note that this vocabulary\n",
              "    contains 1 OOV token, so the effective number of tokens is\n",
              "    `(max_tokens - 1 - (1 if output_mode == &quot;int&quot; else 0))`.\n",
              "  standardize: Optional specification for standardization to apply to the\n",
              "    input text. Values can be:\n",
              "      - `None`: No standardization.\n",
              "      - `&quot;lower_and_strip_punctuation&quot;`: Text will be lowercased and all\n",
              "        punctuation removed.\n",
              "      - `&quot;lower&quot;`: Text will be lowercased.\n",
              "      - `&quot;strip_punctuation&quot;`: All punctuation will be removed.\n",
              "      - Callable: Inputs will passed to the callable function, which should\n",
              "        be standardized and returned.\n",
              "  split: Optional specification for splitting the input text. Values can be:\n",
              "      - `None`: No splitting.\n",
              "      - `&quot;whitespace&quot;`: Split on whitespace.\n",
              "      - `&quot;character&quot;`: Split on each unicode character.\n",
              "      - Callable: Standardized inputs will passed to the callable function,\n",
              "        which should be split and returned.\n",
              "  ngrams: Optional specification for ngrams to create from the\n",
              "    possibly-split input text. Values can be None, an integer or tuple of\n",
              "    integers; passing an integer will create ngrams up to that integer, and\n",
              "    passing a tuple of integers will create ngrams for the specified values\n",
              "    in the tuple. Passing None means that no ngrams will be created.\n",
              "  output_mode: Optional specification for the output of the layer. Values\n",
              "    can be `&quot;int&quot;`, `&quot;multi_hot&quot;`, `&quot;count&quot;` or `&quot;tf_idf&quot;`, configuring the\n",
              "    layer as follows:\n",
              "      - `&quot;int&quot;`: Outputs integer indices, one integer index per split string\n",
              "        token. When `output_mode == &quot;int&quot;`, 0 is reserved for masked\n",
              "        locations; this reduces the vocab size to\n",
              "        `max_tokens - 2` instead of `max_tokens - 1`.\n",
              "      - `&quot;multi_hot&quot;`: Outputs a single int array per batch, of either\n",
              "        vocab_size or max_tokens size, containing 1s in all elements where\n",
              "        the token mapped to that index exists at least once in the batch\n",
              "        item.\n",
              "      - `&quot;count&quot;`: Like `&quot;multi_hot&quot;`, but the int array contains a count of\n",
              "        the number of times the token at that index appeared in the\n",
              "        batch item.\n",
              "      - `&quot;tf_idf&quot;`: Like `&quot;multi_hot&quot;`, but the TF-IDF algorithm is applied\n",
              "        to find the value in each token slot.\n",
              "    For `&quot;int&quot;` output, any shape of input and output is supported. For all\n",
              "    other output modes, currently only rank 1 inputs (and rank 2 outputs\n",
              "    after splitting) are supported.\n",
              "  output_sequence_length: Only valid in INT mode. If set, the output will\n",
              "    have its time dimension padded or truncated to exactly\n",
              "    `output_sequence_length` values, resulting in a tensor of shape\n",
              "    `(batch_size, output_sequence_length)` regardless of how many tokens\n",
              "    resulted from the splitting step. Defaults to `None`.\n",
              "  pad_to_max_tokens: Only valid in  `&quot;multi_hot&quot;`, `&quot;count&quot;`, and `&quot;tf_idf&quot;`\n",
              "    modes. If True, the output will have its feature axis padded to\n",
              "    `max_tokens` even if the number of unique tokens in the vocabulary is\n",
              "    less than max_tokens, resulting in a tensor of shape `(batch_size,\n",
              "    max_tokens)` regardless of vocabulary size. Defaults to `False`.\n",
              "  vocabulary: Optional. Either an array of strings or a string path to a\n",
              "    text file. If passing an array, can pass a tuple, list, 1D numpy array,\n",
              "    or 1D tensor containing the string vocabulary terms. If passing a file\n",
              "    path, the file should contain one line per term in the vocabulary. If\n",
              "    this argument is set, there is no need to `adapt()` the layer.\n",
              "  idf_weights: Only valid when `output_mode` is `&quot;tf_idf&quot;`. A tuple, list,\n",
              "    1D numpy array, or 1D tensor of the same length as the vocabulary,\n",
              "    containing the floating point inverse document frequency weights, which\n",
              "    will be multiplied by per sample term counts for the final `tf_idf`\n",
              "    weight. If the `vocabulary` argument is set, and `output_mode` is\n",
              "    `&quot;tf_idf&quot;`, this argument must be supplied.\n",
              "  ragged: Boolean. Only applicable to `&quot;int&quot;` output mode. If True, returns\n",
              "    a `RaggedTensor` instead of a dense `Tensor`, where each sequence may\n",
              "    have a different length after string splitting. Defaults to `False`.\n",
              "  sparse: Boolean. Only applicable to `&quot;multi_hot&quot;`, `&quot;count&quot;`, and\n",
              "    `&quot;tf_idf&quot;` output modes. If True, returns a `SparseTensor` instead of a\n",
              "    dense `Tensor`. Defaults to `False`.\n",
              "  encoding: Optional. The text encoding to use to interpret the input\n",
              "    strings. Defaults to `&quot;utf-8&quot;`.\n",
              "\n",
              "Example:\n",
              "\n",
              "This example instantiates a `TextVectorization` layer that lowercases text,\n",
              "splits on whitespace, strips punctuation, and outputs integer vocab indices.\n",
              "\n",
              "&gt;&gt;&gt; text_dataset = tf.data.Dataset.from_tensor_slices([&quot;foo&quot;, &quot;bar&quot;, &quot;baz&quot;])\n",
              "&gt;&gt;&gt; max_features = 5000  # Maximum vocab size.\n",
              "&gt;&gt;&gt; max_len = 4  # Sequence length to pad the outputs to.\n",
              "&gt;&gt;&gt;\n",
              "&gt;&gt;&gt; # Create the layer.\n",
              "&gt;&gt;&gt; vectorize_layer = tf.keras.layers.TextVectorization(\n",
              "...  max_tokens=max_features,\n",
              "...  output_mode=&#x27;int&#x27;,\n",
              "...  output_sequence_length=max_len)\n",
              "&gt;&gt;&gt;\n",
              "&gt;&gt;&gt; # Now that the vocab layer has been created, call `adapt` on the\n",
              "&gt;&gt;&gt; # text-only dataset to create the vocabulary. You don&#x27;t have to batch,\n",
              "&gt;&gt;&gt; # but for large datasets this means we&#x27;re not keeping spare copies of\n",
              "&gt;&gt;&gt; # the dataset.\n",
              "&gt;&gt;&gt; vectorize_layer.adapt(text_dataset.batch(64))\n",
              "&gt;&gt;&gt;\n",
              "&gt;&gt;&gt; # Create the model that uses the vectorize text layer\n",
              "&gt;&gt;&gt; model = tf.keras.models.Sequential()\n",
              "&gt;&gt;&gt;\n",
              "&gt;&gt;&gt; # Start by creating an explicit input layer. It needs to have a shape of\n",
              "&gt;&gt;&gt; # (1,) (because we need to guarantee that there is exactly one string\n",
              "&gt;&gt;&gt; # input per batch), and the dtype needs to be &#x27;string&#x27;.\n",
              "&gt;&gt;&gt; model.add(tf.keras.Input(shape=(1,), dtype=tf.string))\n",
              "&gt;&gt;&gt;\n",
              "&gt;&gt;&gt; # The first layer in our model is the vectorization layer. After this\n",
              "&gt;&gt;&gt; # layer, we have a tensor of shape (batch_size, max_len) containing\n",
              "&gt;&gt;&gt; # vocab indices.\n",
              "&gt;&gt;&gt; model.add(vectorize_layer)\n",
              "&gt;&gt;&gt;\n",
              "&gt;&gt;&gt; # Now, the model can map strings to integers, and you can add an\n",
              "&gt;&gt;&gt; # embedding layer to map these integers to learned embeddings.\n",
              "&gt;&gt;&gt; input_data = [[&quot;foo qux bar&quot;], [&quot;qux baz&quot;]]\n",
              "&gt;&gt;&gt; model.predict(input_data)\n",
              "array([[2, 1, 4, 0],\n",
              "       [1, 3, 0, 0]])\n",
              "\n",
              "Example:\n",
              "\n",
              "This example instantiates a `TextVectorization` layer by passing a list\n",
              "of vocabulary terms to the layer&#x27;s `__init__()` method.\n",
              "\n",
              "&gt;&gt;&gt; vocab_data = [&quot;earth&quot;, &quot;wind&quot;, &quot;and&quot;, &quot;fire&quot;]\n",
              "&gt;&gt;&gt; max_len = 4  # Sequence length to pad the outputs to.\n",
              "&gt;&gt;&gt;\n",
              "&gt;&gt;&gt; # Create the layer, passing the vocab directly. You can also pass the\n",
              "&gt;&gt;&gt; # vocabulary arg a path to a file containing one vocabulary word per\n",
              "&gt;&gt;&gt; # line.\n",
              "&gt;&gt;&gt; vectorize_layer = tf.keras.layers.TextVectorization(\n",
              "...  max_tokens=max_features,\n",
              "...  output_mode=&#x27;int&#x27;,\n",
              "...  output_sequence_length=max_len,\n",
              "...  vocabulary=vocab_data)\n",
              "&gt;&gt;&gt;\n",
              "&gt;&gt;&gt; # Because we&#x27;ve passed the vocabulary directly, we don&#x27;t need to adapt\n",
              "&gt;&gt;&gt; # the layer - the vocabulary is already set. The vocabulary contains the\n",
              "&gt;&gt;&gt; # padding token (&#x27;&#x27;) and OOV token (&#x27;[UNK]&#x27;) as well as the passed\n",
              "&gt;&gt;&gt; # tokens.\n",
              "&gt;&gt;&gt; vectorize_layer.get_vocabulary()\n",
              "[&#x27;&#x27;, &#x27;[UNK]&#x27;, &#x27;earth&#x27;, &#x27;wind&#x27;, &#x27;and&#x27;, &#x27;fire&#x27;]</pre>\n",
              "      <script>\n",
              "      if (google.colab.kernel.accessAllowed && google.colab.files && google.colab.files.view) {\n",
              "        for (const element of document.querySelectorAll('.filepath')) {\n",
              "          element.style.display = 'block'\n",
              "          element.onclick = (event) => {\n",
              "            event.preventDefault();\n",
              "            event.stopPropagation();\n",
              "            google.colab.files.view(element.textContent, 51);\n",
              "          };\n",
              "        }\n",
              "      }\n",
              "      for (const element of document.querySelectorAll('.function-repr-contents')) {\n",
              "        element.onclick = (event) => {\n",
              "          event.preventDefault();\n",
              "          event.stopPropagation();\n",
              "          element.classList.toggle('function-repr-contents-collapsed');\n",
              "        };\n",
              "      }\n",
              "      </script>\n",
              "      </div>"
            ]
          },
          "metadata": {},
          "execution_count": 14
        }
      ],
      "source": [
        "TextVectorization"
      ]
    },
    {
      "cell_type": "code",
      "execution_count": null,
      "metadata": {
        "colab": {
          "base_uri": "https://localhost:8080/"
        },
        "id": "sTdTuEK_YFhr",
        "outputId": "5ef14007-09c0-4dc7-b2e1-f70eca94d098"
      },
      "outputs": [
        {
          "output_type": "execute_result",
          "data": {
            "text/plain": [
              "Index(['id', 'comment_text', 'toxic', 'severe_toxic', 'obscene', 'threat',\n",
              "       'insult', 'identity_hate'],\n",
              "      dtype='object')"
            ]
          },
          "metadata": {},
          "execution_count": 15
        }
      ],
      "source": [
        "df.columns"
      ]
    },
    {
      "cell_type": "code",
      "execution_count": null,
      "metadata": {
        "id": "e1dBUPdBXl_Z"
      },
      "outputs": [],
      "source": [
        "X = df[\"comment_text\"]\n",
        "y = df[df.columns[2:]].values # values to convert this dataframe to arrays"
      ]
    },
    {
      "cell_type": "code",
      "execution_count": null,
      "metadata": {
        "colab": {
          "base_uri": "https://localhost:8080/"
        },
        "id": "1BRqvz97YbKZ",
        "outputId": "7b9ce736-360b-4aaa-cbcb-8b42c16a0a58"
      },
      "outputs": [
        {
          "output_type": "execute_result",
          "data": {
            "text/plain": [
              "0         Explanation\\nWhy the edits made under my usern...\n",
              "1         D'aww! He matches this background colour I'm s...\n",
              "2         Hey man, I'm really not trying to edit war. It...\n",
              "3         \"\\nMore\\nI can't make any real suggestions on ...\n",
              "4         You, sir, are my hero. Any chance you remember...\n",
              "                                ...                        \n",
              "159566    \":::::And for the second time of asking, when ...\n",
              "159567    You should be ashamed of yourself \\n\\nThat is ...\n",
              "159568    Spitzer \\n\\nUmm, theres no actual article for ...\n",
              "159569    And it looks like it was actually you who put ...\n",
              "159570    \"\\nAnd ... I really don't think you understand...\n",
              "Name: comment_text, Length: 159571, dtype: object"
            ]
          },
          "metadata": {},
          "execution_count": 17
        }
      ],
      "source": [
        "X"
      ]
    },
    {
      "cell_type": "code",
      "execution_count": null,
      "metadata": {
        "colab": {
          "base_uri": "https://localhost:8080/"
        },
        "id": "d58yiXeJYbtK",
        "outputId": "5e9393d3-8621-47de-bdd2-42d3aaa650d6"
      },
      "outputs": [
        {
          "output_type": "execute_result",
          "data": {
            "text/plain": [
              "array([[0, 0, 0, 0, 0, 0],\n",
              "       [0, 0, 0, 0, 0, 0],\n",
              "       [0, 0, 0, 0, 0, 0],\n",
              "       ...,\n",
              "       [0, 0, 0, 0, 0, 0],\n",
              "       [0, 0, 0, 0, 0, 0],\n",
              "       [0, 0, 0, 0, 0, 0]])"
            ]
          },
          "metadata": {},
          "execution_count": 18
        }
      ],
      "source": [
        "y"
      ]
    },
    {
      "cell_type": "code",
      "execution_count": null,
      "metadata": {
        "id": "9676WfeuYcS6"
      },
      "outputs": [],
      "source": [
        "# how many word we are going to have in  inside our dictionary\n",
        "MAX_FEATURES = 200000 # number of words in the vocab"
      ]
    },
    {
      "cell_type": "code",
      "execution_count": null,
      "metadata": {
        "id": "kW-TBn_sY7U6"
      },
      "outputs": [],
      "source": [
        "vectorizer = TextVectorization( max_tokens = MAX_FEATURES ,\n",
        "                               output_sequence_length = 1800 ,\n",
        "                                output_mode =\"int\" )"
      ]
    },
    {
      "cell_type": "code",
      "execution_count": null,
      "metadata": {
        "colab": {
          "base_uri": "https://localhost:8080/"
        },
        "id": "oxVSWU2DZo9K",
        "outputId": "45cf3a7a-d777-40b7-f5b1-29381c07789f"
      },
      "outputs": [
        {
          "output_type": "execute_result",
          "data": {
            "text/plain": [
              "numpy.ndarray"
            ]
          },
          "metadata": {},
          "execution_count": 20
        }
      ],
      "source": [
        "type(X.values)"
      ]
    },
    {
      "cell_type": "code",
      "source": [
        "X.values.shape"
      ],
      "metadata": {
        "colab": {
          "base_uri": "https://localhost:8080/"
        },
        "id": "cHFTa8HMwpc6",
        "outputId": "a491f71e-a554-46a5-e11a-bac02a425452"
      },
      "execution_count": null,
      "outputs": [
        {
          "output_type": "execute_result",
          "data": {
            "text/plain": [
              "(159571,)"
            ]
          },
          "metadata": {},
          "execution_count": 27
        }
      ]
    },
    {
      "cell_type": "code",
      "execution_count": null,
      "metadata": {
        "id": "tJCeybeuZXZ0"
      },
      "outputs": [],
      "source": [
        "vectorizer.adapt(X.values)"
      ]
    },
    {
      "cell_type": "code",
      "execution_count": null,
      "metadata": {
        "id": "JM2EmxZZZobJ"
      },
      "outputs": [],
      "source": [
        "vectorizer.get_vocabulary()"
      ]
    },
    {
      "cell_type": "code",
      "execution_count": null,
      "metadata": {
        "colab": {
          "base_uri": "https://localhost:8080/"
        },
        "id": "j2fm8ssEZhST",
        "outputId": "a7b30718-0a4c-4912-a5d0-1f85e79a9c57"
      },
      "outputs": [
        {
          "output_type": "execute_result",
          "data": {
            "text/plain": [
              "200000"
            ]
          },
          "metadata": {},
          "execution_count": 23
        }
      ],
      "source": [
        "len(vectorizer.get_vocabulary())"
      ]
    },
    {
      "cell_type": "code",
      "execution_count": null,
      "metadata": {
        "colab": {
          "base_uri": "https://localhost:8080/"
        },
        "id": "AlOQfw-4aJru",
        "outputId": "e06c1a97-e9f7-419f-db52-d374815c3783"
      },
      "outputs": [
        {
          "output_type": "execute_result",
          "data": {
            "text/plain": [
              "<tf.Tensor: shape=(1800,), dtype=int64, numpy=array([288, 263, 306, ...,   0,   0,   0])>"
            ]
          },
          "metadata": {},
          "execution_count": 25
        }
      ],
      "source": [
        "vectorizer(\"Hello, world, life is great\")"
      ]
    },
    {
      "cell_type": "code",
      "source": [
        "len(vectorizer(\"Hello, world, life is great\"))"
      ],
      "metadata": {
        "colab": {
          "base_uri": "https://localhost:8080/"
        },
        "id": "9HEplqYkwkXT",
        "outputId": "dd47a1d1-0c6a-49d9-89b2-fe7aeebb503a"
      },
      "execution_count": null,
      "outputs": [
        {
          "output_type": "execute_result",
          "data": {
            "text/plain": [
              "1800"
            ]
          },
          "metadata": {},
          "execution_count": 24
        }
      ]
    },
    {
      "cell_type": "code",
      "execution_count": null,
      "metadata": {
        "id": "0_w_uvi4aC3k"
      },
      "outputs": [],
      "source": [
        "vectorized_text = vectorizer(X.values)"
      ]
    },
    {
      "cell_type": "code",
      "source": [
        "vectorized_text.shape"
      ],
      "metadata": {
        "colab": {
          "base_uri": "https://localhost:8080/"
        },
        "id": "3-qxZAwqwwNJ",
        "outputId": "0576e24a-d4b1-48fd-b882-ba534773b0f1"
      },
      "execution_count": null,
      "outputs": [
        {
          "output_type": "execute_result",
          "data": {
            "text/plain": [
              "TensorShape([159571, 1800])"
            ]
          },
          "metadata": {},
          "execution_count": 29
        }
      ]
    },
    {
      "cell_type": "code",
      "execution_count": null,
      "metadata": {
        "colab": {
          "base_uri": "https://localhost:8080/"
        },
        "id": "FUdrrBHlaVvD",
        "outputId": "7cc3ea0b-1e6b-4359-d5c4-09c555968ff6"
      },
      "outputs": [
        {
          "output_type": "execute_result",
          "data": {
            "text/plain": [
              "<tf.Tensor: shape=(159571, 1800), dtype=int64, numpy=\n",
              "array([[  645,    76,     2, ...,     0,     0,     0],\n",
              "       [    1,    54,  2489, ...,     0,     0,     0],\n",
              "       [  425,   441,    70, ...,     0,     0,     0],\n",
              "       ...,\n",
              "       [32445,  7392,   383, ...,     0,     0,     0],\n",
              "       [    5,    12,   534, ...,     0,     0,     0],\n",
              "       [    5,     8,   130, ...,     0,     0,     0]])>"
            ]
          },
          "metadata": {},
          "execution_count": 32
        }
      ],
      "source": [
        "vectorized_text"
      ]
    },
    {
      "cell_type": "code",
      "execution_count": null,
      "metadata": {
        "id": "7cQPABT5aYEC"
      },
      "outputs": [],
      "source": [
        "# MCSHBAP map , chache, shuffle , batch , prefetch from_tensor_slices, list_file\n",
        "dataset = tf.data.Dataset.from_tensor_slices(( vectorized_text , y))\n",
        "dataset = dataset.cache()\n",
        "dataset = dataset.shuffle(160000)\n",
        "dataset = dataset.batch(16)\n",
        "dataset = dataset.prefetch(8) #helps prevent bottlenecks"
      ]
    },
    {
      "cell_type": "code",
      "execution_count": null,
      "metadata": {
        "id": "tuSdoXz1bvE7"
      },
      "outputs": [],
      "source": [
        "dataset.as_numpy_iterator().next()"
      ]
    },
    {
      "cell_type": "code",
      "execution_count": null,
      "metadata": {
        "id": "xY61EQwAb07a"
      },
      "outputs": [],
      "source": [
        "batch_X , batch_y = dataset.as_numpy_iterator().next()"
      ]
    },
    {
      "cell_type": "code",
      "execution_count": null,
      "metadata": {
        "colab": {
          "base_uri": "https://localhost:8080/"
        },
        "id": "SpikQ1hScBdq",
        "outputId": "767e8199-befe-499a-fce1-29bba51d4e20"
      },
      "outputs": [
        {
          "output_type": "execute_result",
          "data": {
            "text/plain": [
              "(16, 1800)"
            ]
          },
          "metadata": {},
          "execution_count": 36
        }
      ],
      "source": [
        "batch_X.shape"
      ]
    },
    {
      "cell_type": "code",
      "execution_count": null,
      "metadata": {
        "colab": {
          "base_uri": "https://localhost:8080/"
        },
        "id": "rIv5usiTcC9K",
        "outputId": "854bf1ac-076d-4013-fce4-9cf56b170352"
      },
      "outputs": [
        {
          "output_type": "execute_result",
          "data": {
            "text/plain": [
              "(16, 6)"
            ]
          },
          "metadata": {},
          "execution_count": 37
        }
      ],
      "source": [
        "batch_y.shape"
      ]
    },
    {
      "cell_type": "code",
      "execution_count": null,
      "metadata": {
        "colab": {
          "base_uri": "https://localhost:8080/"
        },
        "id": "LSiNbpwhcvpq",
        "outputId": "e0589d22-ba07-4293-cbfc-95fe150d2fd2"
      },
      "outputs": [
        {
          "output_type": "execute_result",
          "data": {
            "text/plain": [
              "9974"
            ]
          },
          "metadata": {},
          "execution_count": 43
        }
      ],
      "source": [
        "len(dataset) # its kind of number of batches of size 16"
      ]
    },
    {
      "cell_type": "code",
      "source": [
        "9974*16"
      ],
      "metadata": {
        "colab": {
          "base_uri": "https://localhost:8080/"
        },
        "id": "4uOPktLuxHqi",
        "outputId": "ce5c09eb-d8a8-49af-a045-74d2773c593e"
      },
      "execution_count": null,
      "outputs": [
        {
          "output_type": "execute_result",
          "data": {
            "text/plain": [
              "159584"
            ]
          },
          "metadata": {},
          "execution_count": 44
        }
      ]
    },
    {
      "cell_type": "code",
      "execution_count": null,
      "metadata": {
        "id": "gRiNNXsNcJOy"
      },
      "outputs": [],
      "source": [
        "train = dataset.take(int(len(dataset)*.7))\n",
        "val = dataset.skip( int(len(dataset)*.7)).take(int(len(dataset)*0.2))\n",
        "test = dataset.skip(int(len(dataset)*0.9)).take(int(len(dataset)*0.2))"
      ]
    },
    {
      "cell_type": "code",
      "execution_count": null,
      "metadata": {
        "id": "4IC2dFZwdS_T"
      },
      "outputs": [],
      "source": []
    },
    {
      "cell_type": "code",
      "execution_count": null,
      "metadata": {
        "id": "RJtzeyM8c-lj"
      },
      "outputs": [],
      "source": [
        "train.as_numpy_iterator().next()"
      ]
    },
    {
      "cell_type": "code",
      "execution_count": null,
      "metadata": {
        "id": "t-0hCHt_dPxq"
      },
      "outputs": [],
      "source": [
        "# creating the sequential network"
      ]
    },
    {
      "cell_type": "code",
      "execution_count": null,
      "metadata": {
        "id": "_SydO7QjdyZb"
      },
      "outputs": [],
      "source": [
        "from tensorflow.keras.models import Sequential\n",
        "from tensorflow.keras.layers import LSTM , Dropout, Bidirectional, Dense, Embedding"
      ]
    },
    {
      "cell_type": "code",
      "execution_count": null,
      "metadata": {
        "id": "UHxi0NM5eW07"
      },
      "outputs": [],
      "source": [
        "model = Sequential()\n",
        "# create the embedding layer\n",
        "model.add( Embedding(MAX_FEATURES +1, 32))\n",
        "#\n",
        "model.add( Bidirectional ( LSTM(32, activation = \"tanh\")))\n",
        "\n",
        "model.add( Dense(128, activation='relu'))\n",
        "model.add( Dense(256, activation='relu'))\n",
        "model.add( Dense(128, activation='relu'))\n",
        "model.add( Dense(6, activation= 'sigmoid' ))"
      ]
    },
    {
      "cell_type": "code",
      "execution_count": null,
      "metadata": {
        "id": "yaCyMX_LjyG7"
      },
      "outputs": [],
      "source": [
        "model.compile( loss = \"BinaryCrossentropy\" , optimizer = \"Adam\")"
      ]
    },
    {
      "cell_type": "code",
      "execution_count": null,
      "metadata": {
        "colab": {
          "base_uri": "https://localhost:8080/"
        },
        "id": "A4R7KqcEfP2L",
        "outputId": "1d6f311f-2618-45b7-a135-e0fd1288f5e5"
      },
      "outputs": [
        {
          "output_type": "stream",
          "name": "stdout",
          "text": [
            "Model: \"sequential_1\"\n",
            "_________________________________________________________________\n",
            " Layer (type)                Output Shape              Param #   \n",
            "=================================================================\n",
            " embedding_1 (Embedding)     (None, None, 32)          6400032   \n",
            "                                                                 \n",
            " bidirectional_1 (Bidirecti  (None, 64)                16640     \n",
            " onal)                                                           \n",
            "                                                                 \n",
            " dense_4 (Dense)             (None, 128)               8320      \n",
            "                                                                 \n",
            " dense_5 (Dense)             (None, 256)               33024     \n",
            "                                                                 \n",
            " dense_6 (Dense)             (None, 128)               32896     \n",
            "                                                                 \n",
            " dense_7 (Dense)             (None, 6)                 774       \n",
            "                                                                 \n",
            "=================================================================\n",
            "Total params: 6491686 (24.76 MB)\n",
            "Trainable params: 6491686 (24.76 MB)\n",
            "Non-trainable params: 0 (0.00 Byte)\n",
            "_________________________________________________________________\n"
          ]
        }
      ],
      "source": [
        "\n",
        "model.summary()"
      ]
    },
    {
      "cell_type": "code",
      "execution_count": null,
      "metadata": {
        "colab": {
          "base_uri": "https://localhost:8080/"
        },
        "id": "EQCQqsAIfVD7",
        "outputId": "ef716292-cd5e-481b-84d9-2dff8e49abde"
      },
      "outputs": [
        {
          "output_type": "stream",
          "name": "stdout",
          "text": [
            "Epoch 1/50\n",
            "6981/6981 [==============================] - 12936s 2s/step - loss: 0.0619 - val_loss: 0.0460\n",
            "Epoch 2/50\n",
            "2667/6981 [==========>...................] - ETA: 2:06:51 - loss: 0.0456"
          ]
        }
      ],
      "source": [
        "history = model.fit(train, epochs =1 , validation_data = val)"
      ]
    },
    {
      "cell_type": "code",
      "execution_count": null,
      "metadata": {
        "id": "-MAb4wsJknSV"
      },
      "outputs": [],
      "source": [
        "# Save the model to Google Drive\n",
        "model.save('/content/drive/My Drive/my_model')"
      ]
    },
    {
      "cell_type": "code",
      "execution_count": null,
      "metadata": {
        "id": "Cp61mgk5lOW0"
      },
      "outputs": [],
      "source": [
        "from tensorflow.keras.models import load_model\n",
        "loaded_model = load_model('/content/drive/My Drive/my_model')"
      ]
    },
    {
      "cell_type": "code",
      "source": [
        "loaded_model.summary()"
      ],
      "metadata": {
        "colab": {
          "base_uri": "https://localhost:8080/"
        },
        "id": "KYavU-3iyLWH",
        "outputId": "5fd8b70c-8a95-4279-edf2-1a74045de58b"
      },
      "execution_count": null,
      "outputs": [
        {
          "output_type": "stream",
          "name": "stdout",
          "text": [
            "Model: \"sequential\"\n",
            "_________________________________________________________________\n",
            " Layer (type)                Output Shape              Param #   \n",
            "=================================================================\n",
            " embedding (Embedding)       (None, None, 32)          6400032   \n",
            "                                                                 \n",
            " bidirectional (Bidirection  (None, 64)                16640     \n",
            " al)                                                             \n",
            "                                                                 \n",
            " dense (Dense)               (None, 128)               8320      \n",
            "                                                                 \n",
            " dense_1 (Dense)             (None, 256)               33024     \n",
            "                                                                 \n",
            " dense_2 (Dense)             (None, 128)               32896     \n",
            "                                                                 \n",
            " dense_3 (Dense)             (None, 6)                 774       \n",
            "                                                                 \n",
            "=================================================================\n",
            "Total params: 6491686 (24.76 MB)\n",
            "Trainable params: 6491686 (24.76 MB)\n",
            "Non-trainable params: 0 (0.00 Byte)\n",
            "_________________________________________________________________\n"
          ]
        }
      ]
    },
    {
      "cell_type": "code",
      "source": [
        "batch = test.as_numpy_iterator().next()"
      ],
      "metadata": {
        "id": "fG5ot1BTyU0P"
      },
      "execution_count": null,
      "outputs": []
    },
    {
      "cell_type": "code",
      "source": [
        "test.as_numpy_iterator().next()"
      ],
      "metadata": {
        "id": "JrbN4_W70Slj"
      },
      "execution_count": null,
      "outputs": []
    },
    {
      "cell_type": "code",
      "source": [
        "batch_X , batch_y = test.as_numpy_iterator().next()"
      ],
      "metadata": {
        "id": "iJUJ09C90X5R"
      },
      "execution_count": null,
      "outputs": []
    },
    {
      "cell_type": "code",
      "source": [
        "(loaded_model.predict(batch_X)>0.5).astype(int)"
      ],
      "metadata": {
        "id": "Plq4psCm0MYQ"
      },
      "execution_count": null,
      "outputs": []
    },
    {
      "cell_type": "code",
      "source": [
        "batch_y"
      ],
      "metadata": {
        "id": "zuavBvYy0upS"
      },
      "execution_count": null,
      "outputs": []
    },
    {
      "cell_type": "code",
      "source": [
        "from tensorflow.keras.metrics import Precision, Recall, CategoricalAccuracy\n",
        "\n",
        "pre = Precision()\n",
        "re = Recall()\n",
        "acc = CategoricalAccuracy()"
      ],
      "metadata": {
        "id": "weyMRfCy0i1n"
      },
      "execution_count": null,
      "outputs": []
    },
    {
      "cell_type": "code",
      "source": [
        "for batch in test.as_numpy_iterator():\n",
        "\n",
        "  X_true , y_true = batch\n",
        "  yhat = loaded_model.predict(X_true)\n",
        "\n",
        "  y_true = y_true.flatten()\n",
        "  yhat = yhat.flatten()\n",
        "\n",
        "  pre.update_state( y_true, yhat)\n",
        "  re.update_state( y_true, yhat)\n",
        "  acc.update_state( y_true, yhat)"
      ],
      "metadata": {
        "id": "v9dgqHfg1LEs"
      },
      "execution_count": null,
      "outputs": []
    },
    {
      "cell_type": "code",
      "source": [
        "print(\"Precision :\" , pre.result().numpy())\n",
        "print(\"Recall :\" , re.result().numpy())\n",
        "print(\"Accuracy :\" , acc.result().numpy())"
      ],
      "metadata": {
        "colab": {
          "base_uri": "https://localhost:8080/"
        },
        "id": "Ysq0CZ6815No",
        "outputId": "0e501fe2-a09f-4a75-c553-4bd4d6a8598c"
      },
      "execution_count": null,
      "outputs": [
        {
          "output_type": "stream",
          "name": "stdout",
          "text": [
            "Precision : 0.8717949\n",
            "Recall : 0.8031496\n",
            "Accuracy : 0.5210421\n"
          ]
        }
      ]
    },
    {
      "cell_type": "code",
      "source": [],
      "metadata": {
        "id": "eF24yjgu26tI"
      },
      "execution_count": null,
      "outputs": []
    }
  ],
  "metadata": {
    "accelerator": "GPU",
    "colab": {
      "gpuType": "T4",
      "provenance": []
    },
    "kernelspec": {
      "display_name": "Python 3",
      "name": "python3"
    },
    "language_info": {
      "name": "python"
    }
  },
  "nbformat": 4,
  "nbformat_minor": 0
}